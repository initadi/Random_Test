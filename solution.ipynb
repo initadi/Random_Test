{
 "cells": [
  {
   "cell_type": "code",
   "execution_count": 19,
   "id": "b6ca949b-fec3-4384-b4a7-595c257a6319",
   "metadata": {},
   "outputs": [
    {
     "data": {
      "text/plain": [
       "2"
      ]
     },
     "execution_count": 19,
     "metadata": {},
     "output_type": "execute_result"
    }
   ],
   "source": [
    "class Solution:\n",
    "    def floorSqrt(self, x):\n",
    "        left, right = 0, x\n",
    "        \n",
    "        while(left<=right):\n",
    "            mid = left + (right-left)//2\n",
    "            \n",
    "            if mid*mid == x:\n",
    "                return mid\n",
    "            elif mid*mid > x:\n",
    "                right = mid-1\n",
    "            else:\n",
    "                left = mid+1\n",
    "        return right\n",
    "obj = Solution()\n",
    "obj.floorSqrt(4)"
   ]
  },
  {
   "cell_type": "code",
   "execution_count": 25,
   "id": "075364a0-09c2-425b-979e-5357c3f9b527",
   "metadata": {},
   "outputs": [
    {
     "name": "stdout",
     "output_type": "stream",
     "text": [
      "4\n",
      "3\n",
      "2\n",
      "3\n",
      "7\n",
      "1\n"
     ]
    },
    {
     "data": {
      "text/plain": [
       "<__main__.ListNode at 0x7f48386045b0>"
      ]
     },
     "execution_count": 25,
     "metadata": {},
     "output_type": "execute_result"
    }
   ],
   "source": [
    "# Definition for singly-linked list.\n",
    "class ListNode:\n",
    "     def __init__(self, val=0, next=None):\n",
    "        self.val = val\n",
    "        self.next = next\n",
    "class Node:\n",
    "    def __init__(self, data):\n",
    "        self.data = data\n",
    "        self.ref = None\n",
    "class LinkedList:\n",
    "    def __init__(self, val=0, next=None):\n",
    "        self.head = None\n",
    "        self.val = val\n",
    "        self.next = next\n",
    "        \n",
    "        \n",
    "    def add_begin(self, data):\n",
    "        new_node = Node(data)\n",
    "        new_node.ref = self.head\n",
    "        self.head = new_node\n",
    "    def print_LL(self):\n",
    "        if self.head == None:\n",
    "            print(\"Linked List is empty!\")\n",
    "        else:  \n",
    "            n = self.head\n",
    "            while n is not None:\n",
    "                print(n.data)\n",
    "                n = n.ref\n",
    "    \n",
    "class Solution:\n",
    "    def addTwoNumbers(self, l1, l2) :\n",
    "        dummy = ListNode()\n",
    "        tail, carry  = dummy, 0\n",
    "\n",
    "        while l1 or l2 or carry != 0:\n",
    "            num1 = l1.val if l1 else 0\n",
    "            num2 = l2.val if l2 else 0\n",
    "\n",
    "            nodeVal = num1 + num2 + carry\n",
    "            carry = nodeVal // 10\n",
    "            nodeVal = nodeVal % 10\n",
    "            tail.next = ListNode(nodeVal)\n",
    "\n",
    "            l1 = l1.next if l1 else None\n",
    "            l2 = l2.next if LL2 else None\n",
    "            tail = tail.next\n",
    "\n",
    "        return dummy\n",
    "LL1 = LinkedList()\n",
    "LL2 = LinkedList()\n",
    "LL1.add_begin(2)\n",
    "LL1.add_begin(3)\n",
    "LL1.add_begin(4)\n",
    "LL2.add_begin(1)\n",
    "LL2.add_begin(7)\n",
    "LL2.add_begin(3)\n",
    "LL1.print_LL()\n",
    "LL2.print_LL()\n",
    "\n",
    "obj = Solution()\n",
    "obj.addTwoNumbers(LL1,LL2)"
   ]
  },
  {
   "cell_type": "code",
   "execution_count": null,
   "id": "fd3c9919-02cb-4a91-a7fe-c16ee40acb85",
   "metadata": {},
   "outputs": [],
   "source": []
  },
  {
   "cell_type": "code",
   "execution_count": null,
   "id": "faf85ff6-408f-4f4d-91c2-710c3e0d2f5a",
   "metadata": {},
   "outputs": [],
   "source": []
  }
 ],
 "metadata": {
  "kernelspec": {
   "display_name": "Python 3 (ipykernel)",
   "language": "python",
   "name": "python3"
  },
  "language_info": {
   "codemirror_mode": {
    "name": "ipython",
    "version": 3
   },
   "file_extension": ".py",
   "mimetype": "text/x-python",
   "name": "python",
   "nbconvert_exporter": "python",
   "pygments_lexer": "ipython3",
   "version": "3.10.6"
  }
 },
 "nbformat": 4,
 "nbformat_minor": 5
}
